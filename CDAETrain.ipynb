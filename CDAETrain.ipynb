{
 "cells": [
  {
   "cell_type": "code",
   "id": "fbcf05d4245843e4",
   "metadata": {
    "collapsed": true,
    "ExecuteTime": {
     "end_time": "2024-05-05T06:26:09.476297Z",
     "start_time": "2024-05-05T06:26:01.294331Z"
    }
   },
   "source": [
    "import torch\n",
    "import json\n",
    "import csv\n",
    "from Dataset import Dataset\n",
    "from Evaluator import Evaluator\n",
    "from CDAE import CDAE\n",
    "from utils import train_model\n",
    "from DataUtils import pre_preprocess_data\n",
    "\n",
    "# Define hyperparameters, all of this can be fine tune to enhance the accuracy\n",
    "data_path = \"books/train_data.csv\"\n",
    "train_ratio = 0.7\n",
    "hidden_dim = 50\n",
    "corruption_ratio = 0.3\n",
    "num_epochs = 100\n",
    "batch_size = 512\n",
    "testing_batch_size = 512\n",
    "learning_rate = 0.001\n",
    "early_stop = True\n",
    "patience = 50\n",
    "top_k = [5]\n",
    "activation = \"sigmoid\"\n",
    "device = torch.device(\"cpu\")\n",
    "\n",
    "columns = {\"user_id\": \"user\", \"book_id\": \"item\", \"rating\": \"rating\"}\n",
    "\n",
    "save_path = \"books/user_item_rating.csv\"\n",
    "pre_preprocess_data(\n",
    "    data_path=data_path,\n",
    "    save_path=save_path,\n",
    "    sep=\",\",\n",
    "    columns=columns,\n",
    "    min_ratings_threshold=60,\n",
    "    min_ratings_count_threshold=50,\n",
    ")"
   ],
   "outputs": [],
   "execution_count": 4
  },
  {
   "metadata": {
    "ExecuteTime": {
     "end_time": "2024-05-05T06:26:25.224227Z",
     "start_time": "2024-05-05T06:26:09.477469Z"
    }
   },
   "cell_type": "code",
   "source": [
    "dataset = Dataset(\n",
    "    data_path=save_path, save_path=\"training.json\", sep=\",\", device=device\n",
    ")\n",
    "\n",
    "eval_pos, eval_target = dataset.eval_data()\n",
    "item_popularity = dataset.item_popularity\n",
    "\n",
    "evaluator = Evaluator(eval_pos, eval_target, item_popularity, top_k)\n",
    "recommender_model = CDAE(\n",
    "    num_users=dataset.num_users, num_items=dataset.num_items, hidden_dim=hidden_dim,\n",
    "    corruption_ratio=corruption_ratio, activation=activation\n",
    ")"
   ],
   "id": "f60da9ebec3e01d5",
   "outputs": [
    {
     "name": "stdout",
     "output_type": "stream",
     "text": [
      "Preprocess start...\n",
      "Initial users: 33285, items: 1801\n",
      "Assign new user id from 0..n\n",
      "Assign new item id from 0..n\n",
      "Split data into training set and test set\n",
      "# zero train, test: 0, 0\n",
      "Preprocess finished.\n"
     ]
    }
   ],
   "execution_count": 5
  },
  {
   "metadata": {
    "ExecuteTime": {
     "end_time": "2024-05-05T06:28:16.537504Z",
     "start_time": "2024-05-05T06:26:25.225209Z"
    }
   },
   "cell_type": "code",
   "source": [
    "cade_model, loss_recorder, metric_recorder = train_model(\n",
    "    recommender_model,\n",
    "    dataset,\n",
    "    evaluator,\n",
    "    batch_size=batch_size,\n",
    "    test_batch_size=testing_batch_size,\n",
    "    learning_rate=learning_rate,\n",
    "    epochs=num_epochs,\n",
    "    early_stop=early_stop,\n",
    ")"
   ],
   "id": "44d6c91d37f1aa5a",
   "outputs": [
    {
     "name": "stdout",
     "output_type": "stream",
     "text": [
      "Training epoch 1/100, 2.96, 1.41 loss = 16.16, Prec@5=0.0145 Recall@5=0.0145 NDCG@5=0.0163 Nov@5=4.5601 Gini-D=0.1056\n",
      "Training epoch 2/100, 2.47, 1.10 loss = 15.08, Prec@5=0.0224 Recall@5=0.0224 NDCG@5=0.0244 Nov@5=3.8845 Gini-D=0.1170\n",
      "Training epoch 3/100, 2.46, 1.05 loss = 14.52, Prec@5=0.0842 Recall@5=0.0842 NDCG@5=0.0879 Nov@5=1.3145 Gini-D=0.2656\n",
      "Training epoch 4/100, 2.19, 1.10 loss = 14.26, Prec@5=0.0916 Recall@5=0.0916 NDCG@5=0.0945 Nov@5=1.1754 Gini-D=0.7624\n",
      "Training epoch 5/100, 1.86, 0.93 loss = 14.17, Prec@5=0.0917 Recall@5=0.0917 NDCG@5=0.0949 Nov@5=1.1741 Gini-D=0.8581\n",
      "Training epoch 6/100, 1.80, 0.94 loss = 14.14, Prec@5=0.0917 Recall@5=0.0917 NDCG@5=0.0949 Nov@5=1.1738 Gini-D=0.6698\n",
      "Training epoch 7/100, 1.78, 0.95 loss = 14.13, Prec@5=0.0913 Recall@5=0.0913 NDCG@5=0.0946 Nov@5=1.1738 Gini-D=0.8573\n",
      "Training epoch 8/100, 1.78, 0.94 loss = 14.13, Prec@5=0.0912 Recall@5=0.0912 NDCG@5=0.0946 Nov@5=1.1785 Gini-D=1.0000\n",
      "Training epoch 9/100, 1.78, 0.96 loss = 14.13, Prec@5=0.0912 Recall@5=0.0912 NDCG@5=0.0942 Nov@5=1.1796 Gini-D=0.8571\n",
      "Training epoch 10/100, 1.82, 0.96 loss = 14.13, Prec@5=0.0915 Recall@5=0.0915 NDCG@5=0.0948 Nov@5=1.1736 Gini-D=1.0000\n",
      "Training epoch 11/100, 1.87, 0.97 loss = 14.13, Prec@5=0.0915 Recall@5=0.0915 NDCG@5=0.0948 Nov@5=1.1736 Gini-D=1.0000\n",
      "Training epoch 12/100, 1.82, 0.94 loss = 14.13, Prec@5=0.0913 Recall@5=0.0913 NDCG@5=0.0946 Nov@5=1.1738 Gini-D=1.0000\n",
      "Training epoch 13/100, 1.67, 0.95 loss = 14.13, Prec@5=0.0913 Recall@5=0.0913 NDCG@5=0.0946 Nov@5=1.1738 Gini-D=1.0000\n",
      "Training epoch 14/100, 1.82, 0.96 loss = 14.13, Prec@5=0.0913 Recall@5=0.0913 NDCG@5=0.0946 Nov@5=1.1738 Gini-D=1.0000\n",
      "Training epoch 15/100, 1.75, 0.95 loss = 14.12, Prec@5=0.0913 Recall@5=0.0913 NDCG@5=0.0946 Nov@5=1.1738 Gini-D=1.0000\n",
      "Training epoch 16/100, 1.86, 0.95 loss = 14.12, Prec@5=0.0913 Recall@5=0.0913 NDCG@5=0.0946 Nov@5=1.1738 Gini-D=1.0000\n",
      "Training epoch 17/100, 1.85, 0.95 loss = 14.12, Prec@5=0.0913 Recall@5=0.0913 NDCG@5=0.0946 Nov@5=1.1738 Gini-D=1.0000\n",
      "Training epoch 18/100, 1.81, 0.95 loss = 14.13, Prec@5=0.0913 Recall@5=0.0913 NDCG@5=0.0946 Nov@5=1.1738 Gini-D=1.0000\n",
      "Training epoch 19/100, 1.89, 0.95 loss = 14.12, Prec@5=0.0913 Recall@5=0.0913 NDCG@5=0.0946 Nov@5=1.1738 Gini-D=1.0000\n",
      "Training epoch 20/100, 1.86, 0.96 loss = 14.12, Prec@5=0.0913 Recall@5=0.0913 NDCG@5=0.0946 Nov@5=1.1738 Gini-D=1.0000\n",
      "Training epoch 21/100, 1.75, 0.96 loss = 14.12, Prec@5=0.0913 Recall@5=0.0913 NDCG@5=0.0946 Nov@5=1.1738 Gini-D=1.0000\n",
      "Training epoch 22/100, 1.82, 0.95 loss = 14.12, Prec@5=0.0913 Recall@5=0.0913 NDCG@5=0.0946 Nov@5=1.1738 Gini-D=1.0000\n",
      "Training epoch 23/100, 1.85, 0.96 loss = 14.12, Prec@5=0.0913 Recall@5=0.0913 NDCG@5=0.0946 Nov@5=1.1738 Gini-D=1.0000\n",
      "Training epoch 24/100, 1.78, 0.96 loss = 14.13, Prec@5=0.0913 Recall@5=0.0913 NDCG@5=0.0946 Nov@5=1.1738 Gini-D=1.0000\n",
      "Training epoch 25/100, 1.74, 0.95 loss = 14.12, Prec@5=0.0913 Recall@5=0.0913 NDCG@5=0.0946 Nov@5=1.1738 Gini-D=1.0000\n",
      "Training epoch 26/100, 1.79, 0.97 loss = 14.12, Prec@5=0.0913 Recall@5=0.0913 NDCG@5=0.0946 Nov@5=1.1738 Gini-D=1.0000\n",
      "Training epoch 27/100, 1.74, 0.98 loss = 14.12, Prec@5=0.0913 Recall@5=0.0913 NDCG@5=0.0946 Nov@5=1.1738 Gini-D=1.0000\n",
      "Training epoch 28/100, 1.92, 1.03 loss = 14.12, Prec@5=0.0913 Recall@5=0.0913 NDCG@5=0.0946 Nov@5=1.1738 Gini-D=1.0000\n",
      "Training epoch 29/100, 1.98, 1.04 loss = 14.12, Prec@5=0.0913 Recall@5=0.0913 NDCG@5=0.0946 Nov@5=1.1738 Gini-D=0.8667\n",
      "Training epoch 30/100, 1.90, 1.08 loss = 14.12, Prec@5=0.0913 Recall@5=0.0913 NDCG@5=0.0946 Nov@5=1.1738 Gini-D=1.0000\n",
      "Training epoch 31/100, 2.41, 1.01 loss = 14.12, Prec@5=0.0913 Recall@5=0.0913 NDCG@5=0.0946 Nov@5=1.1738 Gini-D=1.0000\n",
      "Training epoch 32/100, 2.12, 1.19 loss = 14.12, Prec@5=0.0913 Recall@5=0.0913 NDCG@5=0.0946 Nov@5=1.1738 Gini-D=1.0000\n",
      "Training epoch 33/100, 1.99, 1.13 loss = 14.12, Prec@5=0.0913 Recall@5=0.0913 NDCG@5=0.0946 Nov@5=1.1738 Gini-D=1.0000\n",
      "Training epoch 34/100, 1.91, 0.97 loss = 14.12, Prec@5=0.0913 Recall@5=0.0913 NDCG@5=0.0946 Nov@5=1.1738 Gini-D=1.0000\n",
      "Training epoch 35/100, 2.03, 0.95 loss = 14.12, Prec@5=0.0913 Recall@5=0.0913 NDCG@5=0.0946 Nov@5=1.1738 Gini-D=1.0000\n",
      "Training epoch 36/100, 2.47, 1.40 loss = 14.12, Prec@5=0.0913 Recall@5=0.0913 NDCG@5=0.0946 Nov@5=1.1738 Gini-D=1.0000\n",
      "Training epoch 37/100, 1.95, 1.06 loss = 14.12, Prec@5=0.0913 Recall@5=0.0913 NDCG@5=0.0946 Nov@5=1.1738 Gini-D=1.0000\n",
      "Training epoch 38/100, 2.20, 1.27 loss = 14.12, Prec@5=0.0913 Recall@5=0.0913 NDCG@5=0.0946 Nov@5=1.1738 Gini-D=1.0000\n",
      "Training epoch 39/100, 1.98, 1.05 loss = 14.12, Prec@5=0.0913 Recall@5=0.0913 NDCG@5=0.0946 Nov@5=1.1738 Gini-D=1.0000\n",
      "Training epoch 40/100, 2.10, 1.01 loss = 14.12, Prec@5=0.0913 Recall@5=0.0913 NDCG@5=0.0946 Nov@5=1.1738 Gini-D=1.0000\n",
      "Training epoch 41/100, 2.50, 1.38 loss = 14.12, Prec@5=0.0913 Recall@5=0.0913 NDCG@5=0.0946 Nov@5=1.1738 Gini-D=1.0000\n",
      "Training epoch 42/100, 2.57, 1.38 loss = 14.12, Prec@5=0.0913 Recall@5=0.0913 NDCG@5=0.0946 Nov@5=1.1738 Gini-D=1.0000\n",
      "Training epoch 43/100, 2.54, 1.41 loss = 14.12, Prec@5=0.0913 Recall@5=0.0913 NDCG@5=0.0946 Nov@5=1.1738 Gini-D=1.0000\n",
      "Training epoch 44/100, 2.08, 1.13 loss = 14.12, Prec@5=0.0913 Recall@5=0.0913 NDCG@5=0.0946 Nov@5=1.1738 Gini-D=1.0000\n",
      "Training epoch 45/100, 2.31, 1.33 loss = 14.12, Prec@5=0.0913 Recall@5=0.0913 NDCG@5=0.0946 Nov@5=1.1738 Gini-D=1.0000\n",
      "Training epoch 46/100, 2.19, 1.21 loss = 14.12, Prec@5=0.0913 Recall@5=0.0913 NDCG@5=0.0946 Nov@5=1.1738 Gini-D=1.0000\n",
      "Training epoch 47/100, 2.04, 1.09 loss = 14.12, Prec@5=0.0913 Recall@5=0.0913 NDCG@5=0.0946 Nov@5=1.1738 Gini-D=1.0000\n",
      "Training epoch 48/100, 2.21, 1.19 loss = 14.12, Prec@5=0.0913 Recall@5=0.0913 NDCG@5=0.0946 Nov@5=1.1738 Gini-D=1.0000\n",
      "Training epoch 49/100, 1.95, 1.07 loss = 14.12, Prec@5=0.0913 Recall@5=0.0913 NDCG@5=0.0946 Nov@5=1.1738 Gini-D=1.0000\n",
      "Training epoch 50/100, 2.06, 1.18 loss = 14.12, Prec@5=0.0913 Recall@5=0.0913 NDCG@5=0.0946 Nov@5=1.1738 Gini-D=1.0000\n",
      "Training epoch 51/100, 2.05, 1.09 loss = 14.12, Prec@5=0.0913 Recall@5=0.0913 NDCG@5=0.0946 Nov@5=1.1738 Gini-D=1.0000\n",
      "Training epoch 52/100, 2.07, 1.09 loss = 14.12, Prec@5=0.0913 Recall@5=0.0913 NDCG@5=0.0946 Nov@5=1.1738 Gini-D=1.0000\n",
      "Training epoch 53/100, 2.14, 1.16 loss = 14.12, Prec@5=0.0913 Recall@5=0.0913 NDCG@5=0.0946 Nov@5=1.1738 Gini-D=1.0000\n",
      "Training epoch 54/100, 2.01, 1.10 loss = 14.12, Prec@5=0.0913 Recall@5=0.0913 NDCG@5=0.0946 Nov@5=1.1738 Gini-D=1.0000\n",
      "Training epoch 55/100, 2.06, 1.11 loss = 14.12, Prec@5=0.0913 Recall@5=0.0913 NDCG@5=0.0946 Nov@5=1.1738 Gini-D=1.0000\n",
      "Early Stop Triggered...\n",
      "Training Finished.\n",
      "Best score at epoch 5] Prec@5 = 0.0917 Recall@5 = 0.0917 NDCG@5 = 0.0949 Nov@5 = 1.1741 Gini-D = 0.8581\n"
     ]
    }
   ],
   "execution_count": 6
  },
  {
   "metadata": {
    "ExecuteTime": {
     "end_time": "2024-05-05T01:58:58.910491Z",
     "start_time": "2024-05-05T01:58:58.901381Z"
    }
   },
   "cell_type": "code",
   "source": [
    "with open(\"model_loss\", 'w', newline='') as f:\n",
    "    wr = csv.writer(f, quoting=csv.QUOTE_MINIMAL)\n",
    "    wr.writerow([\"epoch\", \"loss\"])  # Write header row\n",
    "    for epoch, loss in enumerate(loss_recorder):\n",
    "        wr.writerow([epoch, loss])\n",
    "\n",
    "header = [\"epoch\", \"Prec@5\", \"Recall@5\", \"NDCG@5\", \"Nov@5\", \"Gini-D\"]\n",
    "\n",
    "with open(\"model_metrics.csv\", 'w', newline='') as f:\n",
    "    writer = csv.writer(f, quoting=csv.QUOTE_MINIMAL)\n",
    "    writer.writerow(header)  # Write header row\n",
    "    for epoch, metrics in enumerate(metric_recorder):\n",
    "        row = [epoch] + [metrics.get(metric, \"\") for metric in header[1:]]\n",
    "        writer.writerow(row)"
   ],
   "id": "initial_id",
   "outputs": [],
   "execution_count": 3
  },
  {
   "metadata": {
    "ExecuteTime": {
     "end_time": "2024-05-05T01:58:59.638997Z",
     "start_time": "2024-05-05T01:58:59.621234Z"
    }
   },
   "cell_type": "code",
   "source": "torch.save(cade_model.state_dict(), \"cdae_recommender.pth\")",
   "id": "ab223184bcdabaac",
   "outputs": [],
   "execution_count": 4
  },
  {
   "metadata": {
    "ExecuteTime": {
     "end_time": "2024-05-05T02:10:32.458253Z",
     "start_time": "2024-05-05T02:09:48.363734Z"
    }
   },
   "cell_type": "code",
   "source": [
    "model = CDAE(\n",
    "    num_users=dataset.num_users, num_items=dataset.num_items, hidden_dim=hidden_dim,\n",
    "    corruption_ratio=corruption_ratio, activation=activation\n",
    ")\n",
    "model.load_state_dict(torch.load('cdae_recommender.pth'))\n",
    "model.train()\n",
    "cade_model_2, loss_recorder, metric_recorder = train_model(\n",
    "    model,\n",
    "    dataset,\n",
    "    evaluator,\n",
    "    batch_size=batch_size,\n",
    "    test_batch_size=testing_batch_size,\n",
    "    learning_rate=learning_rate,\n",
    "    epochs=20,\n",
    "    early_stop=early_stop,\n",
    ")"
   ],
   "id": "f92844ea490d1290",
   "outputs": [
    {
     "name": "stdout",
     "output_type": "stream",
     "text": [
      "Training epoch 1/20, 2.41, 1.25 loss = 15709952.00, Prec@5=0.1245 Recall@5=0.1245 NDCG@5=0.1261 Nov@5=1.8242 Gini-D=0.1706\n",
      "Training epoch 2/20, 2.11, 1.07 loss = 15701023.00, Prec@5=0.1249 Recall@5=0.1249 NDCG@5=0.1269 Nov@5=1.8179 Gini-D=0.1657\n",
      "Training epoch 3/20, 2.03, 0.99 loss = 15692958.00, Prec@5=0.1261 Recall@5=0.1261 NDCG@5=0.1278 Nov@5=1.8315 Gini-D=0.1663\n",
      "Training epoch 4/20, 2.07, 1.03 loss = 15685243.00, Prec@5=0.1261 Recall@5=0.1261 NDCG@5=0.1277 Nov@5=1.8481 Gini-D=0.1670\n",
      "Training epoch 5/20, 2.05, 1.01 loss = 15677892.00, Prec@5=0.1264 Recall@5=0.1264 NDCG@5=0.1281 Nov@5=1.8672 Gini-D=0.1736\n",
      "Training epoch 6/20, 2.07, 1.02 loss = 15670680.00, Prec@5=0.1264 Recall@5=0.1264 NDCG@5=0.1282 Nov@5=1.8858 Gini-D=0.1756\n",
      "Training epoch 7/20, 2.24, 1.20 loss = 15663698.00, Prec@5=0.1270 Recall@5=0.1270 NDCG@5=0.1287 Nov@5=1.9081 Gini-D=0.1787\n",
      "Training epoch 8/20, 2.29, 1.02 loss = 15657085.00, Prec@5=0.1274 Recall@5=0.1274 NDCG@5=0.1288 Nov@5=1.9185 Gini-D=0.1779\n",
      "Training epoch 9/20, 2.48, 1.20 loss = 15651051.00, Prec@5=0.1273 Recall@5=0.1273 NDCG@5=0.1288 Nov@5=1.9340 Gini-D=0.1827\n",
      "Training epoch 10/20, 2.16, 1.04 loss = 15644999.00, Prec@5=0.1277 Recall@5=0.1277 NDCG@5=0.1293 Nov@5=1.9522 Gini-D=0.1809\n",
      "Training epoch 11/20, 2.36, 1.17 loss = 15641240.00, Prec@5=0.1277 Recall@5=0.1277 NDCG@5=0.1293 Nov@5=1.9527 Gini-D=0.1815\n",
      "Training epoch 12/20, 2.25, 1.18 loss = 15640509.00, Prec@5=0.1278 Recall@5=0.1278 NDCG@5=0.1294 Nov@5=1.9545 Gini-D=0.1825\n",
      "Training epoch 13/20, 2.19, 1.06 loss = 15639780.00, Prec@5=0.1280 Recall@5=0.1280 NDCG@5=0.1295 Nov@5=1.9569 Gini-D=0.1830\n",
      "Training epoch 14/20, 2.32, 1.11 loss = 15639423.00, Prec@5=0.1280 Recall@5=0.1280 NDCG@5=0.1296 Nov@5=1.9576 Gini-D=0.1829\n",
      "Training epoch 15/20, 2.23, 1.05 loss = 15638710.00, Prec@5=0.1280 Recall@5=0.1280 NDCG@5=0.1295 Nov@5=1.9590 Gini-D=0.1834\n",
      "Training epoch 16/20, 2.22, 1.17 loss = 15638429.00, Prec@5=0.1279 Recall@5=0.1279 NDCG@5=0.1294 Nov@5=1.9604 Gini-D=0.1838\n",
      "Training epoch 17/20, 2.09, 1.04 loss = 15637598.00, Prec@5=0.1280 Recall@5=0.1280 NDCG@5=0.1296 Nov@5=1.9615 Gini-D=0.1846\n",
      "Training epoch 18/20, 2.10, 1.04 loss = 15637274.00, Prec@5=0.1279 Recall@5=0.1279 NDCG@5=0.1295 Nov@5=1.9626 Gini-D=0.1846\n",
      "Training epoch 19/20, 2.16, 1.09 loss = 15636501.00, Prec@5=0.1279 Recall@5=0.1279 NDCG@5=0.1296 Nov@5=1.9644 Gini-D=0.1848\n",
      "Training epoch 20/20, 2.21, 1.07 loss = 15635773.00, Prec@5=0.1278 Recall@5=0.1278 NDCG@5=0.1294 Nov@5=1.9662 Gini-D=0.1853\n",
      "Training Finished.\n",
      "Best score at epoch 14] Prec@5 = 0.1280 Recall@5 = 0.1280 NDCG@5 = 0.1296 Nov@5 = 1.9576 Gini-D = 0.1829\n"
     ]
    }
   ],
   "execution_count": 8
  },
  {
   "metadata": {
    "ExecuteTime": {
     "end_time": "2024-05-05T02:09:42.032088Z",
     "start_time": "2024-05-05T02:09:42.010997Z"
    }
   },
   "cell_type": "code",
   "source": "torch.save(cade_model_2.state_dict(), \"cdae_recommender.pth\")",
   "id": "ffcf518d60645c59",
   "outputs": [],
   "execution_count": 7
  },
  {
   "metadata": {},
   "cell_type": "code",
   "outputs": [],
   "execution_count": null,
   "source": "",
   "id": "a7b3631427ab170d"
  }
 ],
 "metadata": {
  "kernelspec": {
   "display_name": "Python 3",
   "language": "python",
   "name": "python3"
  },
  "language_info": {
   "codemirror_mode": {
    "name": "ipython",
    "version": 2
   },
   "file_extension": ".py",
   "mimetype": "text/x-python",
   "name": "python",
   "nbconvert_exporter": "python",
   "pygments_lexer": "ipython2",
   "version": "2.7.6"
  }
 },
 "nbformat": 4,
 "nbformat_minor": 5
}
