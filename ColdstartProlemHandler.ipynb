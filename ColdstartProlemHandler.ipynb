{
 "cells": [
  {
   "cell_type": "code",
   "id": "initial_id",
   "metadata": {
    "collapsed": true,
    "ExecuteTime": {
     "end_time": "2024-05-05T01:39:14.887656Z",
     "start_time": "2024-05-05T01:39:14.882604Z"
    }
   },
   "source": [
    "import pandas as pd\n",
    "from sklearn.feature_extraction.text import TfidfVectorizer\n",
    "from sklearn.metrics.pairwise import linear_kernel"
   ],
   "outputs": [],
   "execution_count": 10
  },
  {
   "metadata": {
    "ExecuteTime": {
     "end_time": "2024-05-05T01:39:14.939764Z",
     "start_time": "2024-05-05T01:39:14.890543Z"
    }
   },
   "cell_type": "code",
   "source": [
    "book_data = pd.read_csv('book2db.csv', engine=\"python\")\n",
    "book_data.head()"
   ],
   "id": "663192963ae1e2c6",
   "outputs": [
    {
     "data": {
      "text/plain": [
       "   book_id       isbn                                              title  \\\n",
       "0        1  439023483  The Hunger Games (Hunger Games, Book One): Vol...   \n",
       "1        2  439554934          Harry Potter and the Philosopher\\'s Stone   \n",
       "2        3  316015849                         Twilight: Twilight, Book 1   \n",
       "3        4   61120081                              To Kill a Mockingbird   \n",
       "4        5  743273567  The Great Gatsby: The Original 1925 Edition (A...   \n",
       "\n",
       "                 author                                                img  \\\n",
       "0      Suzanne Collins   https://m.media-amazon.com/images/I/61I24wOsn8...   \n",
       "1         J.K. Rowling   https://m.media-amazon.com/images/I/81q77Q39nE...   \n",
       "2      Stephenie Meyer   https://m.media-amazon.com/images/I/61sW9OBNRx...   \n",
       "3           Harper Lee   https://m.media-amazon.com/images/I/81aY1lxk+9...   \n",
       "4  F. Scott Fitzgerald   https://m.media-amazon.com/images/I/61z0MrB6qO...   \n",
       "\n",
       "                                         description    price  \\\n",
       "0  The first novel in the worldwide bestselling s...  S$22.58   \n",
       "1  Escape to Hogwarts with the unmissable series ...  S$14.98   \n",
       "2  An electrifying debut novel of a young woman\\'...  S$20.77   \n",
       "3  Voted America\\'s Best-Loved Novel in PBS\\'s Th...  S$24.56   \n",
       "4  “So we beat on, boats against the current, bor...   S$9.71   \n",
       "\n",
       "                                             details  \\\n",
       "0  {'ASIN': '0439023521', 'Language': 'English', ...   \n",
       "1  {'ASIN': '1408855658', 'Language': 'English', ...   \n",
       "2  {'ASIN': '1904233651', 'Language': 'English', ...   \n",
       "3  {'Language': 'English', 'Paperback': '336 page...   \n",
       "4                         ['282 in U.S. Literature']   \n",
       "\n",
       "                                                 url provider  average_rating  \\\n",
       "0  https://www.amazon.sg/Hunger-Games-Book-One-01...   Amazon            4.34   \n",
       "1  https://www.amazon.sg/Harry-Potter-Philosopher...   Amazon            4.44   \n",
       "2  https://www.amazon.sg/Twilight-Book-1-Stepheni...   Amazon            3.57   \n",
       "3  https://www.amazon.sg/Kill-Mockingbird-Harper-...   Amazon            4.25   \n",
       "4  https://www.amazon.sg/Great-Gatsby-Original-Fi...   Amazon            3.89   \n",
       "\n",
       "   ratings_count  original_publication_year  \\\n",
       "0        4780653                     2008.0   \n",
       "1        4602479                     1997.0   \n",
       "2        3866839                     2005.0   \n",
       "3        3198671                     1960.0   \n",
       "4        2683664                     1925.0   \n",
       "\n",
       "                             original_title  \n",
       "0                          The Hunger Games  \n",
       "1  Harry Potter and the Philosopher's Stone  \n",
       "2                                  Twilight  \n",
       "3                     To Kill a Mockingbird  \n",
       "4                          The Great Gatsby  "
      ],
      "text/html": [
       "<div>\n",
       "<style scoped>\n",
       "    .dataframe tbody tr th:only-of-type {\n",
       "        vertical-align: middle;\n",
       "    }\n",
       "\n",
       "    .dataframe tbody tr th {\n",
       "        vertical-align: top;\n",
       "    }\n",
       "\n",
       "    .dataframe thead th {\n",
       "        text-align: right;\n",
       "    }\n",
       "</style>\n",
       "<table border=\"1\" class=\"dataframe\">\n",
       "  <thead>\n",
       "    <tr style=\"text-align: right;\">\n",
       "      <th></th>\n",
       "      <th>book_id</th>\n",
       "      <th>isbn</th>\n",
       "      <th>title</th>\n",
       "      <th>author</th>\n",
       "      <th>img</th>\n",
       "      <th>description</th>\n",
       "      <th>price</th>\n",
       "      <th>details</th>\n",
       "      <th>url</th>\n",
       "      <th>provider</th>\n",
       "      <th>average_rating</th>\n",
       "      <th>ratings_count</th>\n",
       "      <th>original_publication_year</th>\n",
       "      <th>original_title</th>\n",
       "    </tr>\n",
       "  </thead>\n",
       "  <tbody>\n",
       "    <tr>\n",
       "      <th>0</th>\n",
       "      <td>1</td>\n",
       "      <td>439023483</td>\n",
       "      <td>The Hunger Games (Hunger Games, Book One): Vol...</td>\n",
       "      <td>Suzanne Collins</td>\n",
       "      <td>https://m.media-amazon.com/images/I/61I24wOsn8...</td>\n",
       "      <td>The first novel in the worldwide bestselling s...</td>\n",
       "      <td>S$22.58</td>\n",
       "      <td>{'ASIN': '0439023521', 'Language': 'English', ...</td>\n",
       "      <td>https://www.amazon.sg/Hunger-Games-Book-One-01...</td>\n",
       "      <td>Amazon</td>\n",
       "      <td>4.34</td>\n",
       "      <td>4780653</td>\n",
       "      <td>2008.0</td>\n",
       "      <td>The Hunger Games</td>\n",
       "    </tr>\n",
       "    <tr>\n",
       "      <th>1</th>\n",
       "      <td>2</td>\n",
       "      <td>439554934</td>\n",
       "      <td>Harry Potter and the Philosopher\\'s Stone</td>\n",
       "      <td>J.K. Rowling</td>\n",
       "      <td>https://m.media-amazon.com/images/I/81q77Q39nE...</td>\n",
       "      <td>Escape to Hogwarts with the unmissable series ...</td>\n",
       "      <td>S$14.98</td>\n",
       "      <td>{'ASIN': '1408855658', 'Language': 'English', ...</td>\n",
       "      <td>https://www.amazon.sg/Harry-Potter-Philosopher...</td>\n",
       "      <td>Amazon</td>\n",
       "      <td>4.44</td>\n",
       "      <td>4602479</td>\n",
       "      <td>1997.0</td>\n",
       "      <td>Harry Potter and the Philosopher's Stone</td>\n",
       "    </tr>\n",
       "    <tr>\n",
       "      <th>2</th>\n",
       "      <td>3</td>\n",
       "      <td>316015849</td>\n",
       "      <td>Twilight: Twilight, Book 1</td>\n",
       "      <td>Stephenie Meyer</td>\n",
       "      <td>https://m.media-amazon.com/images/I/61sW9OBNRx...</td>\n",
       "      <td>An electrifying debut novel of a young woman\\'...</td>\n",
       "      <td>S$20.77</td>\n",
       "      <td>{'ASIN': '1904233651', 'Language': 'English', ...</td>\n",
       "      <td>https://www.amazon.sg/Twilight-Book-1-Stepheni...</td>\n",
       "      <td>Amazon</td>\n",
       "      <td>3.57</td>\n",
       "      <td>3866839</td>\n",
       "      <td>2005.0</td>\n",
       "      <td>Twilight</td>\n",
       "    </tr>\n",
       "    <tr>\n",
       "      <th>3</th>\n",
       "      <td>4</td>\n",
       "      <td>61120081</td>\n",
       "      <td>To Kill a Mockingbird</td>\n",
       "      <td>Harper Lee</td>\n",
       "      <td>https://m.media-amazon.com/images/I/81aY1lxk+9...</td>\n",
       "      <td>Voted America\\'s Best-Loved Novel in PBS\\'s Th...</td>\n",
       "      <td>S$24.56</td>\n",
       "      <td>{'Language': 'English', 'Paperback': '336 page...</td>\n",
       "      <td>https://www.amazon.sg/Kill-Mockingbird-Harper-...</td>\n",
       "      <td>Amazon</td>\n",
       "      <td>4.25</td>\n",
       "      <td>3198671</td>\n",
       "      <td>1960.0</td>\n",
       "      <td>To Kill a Mockingbird</td>\n",
       "    </tr>\n",
       "    <tr>\n",
       "      <th>4</th>\n",
       "      <td>5</td>\n",
       "      <td>743273567</td>\n",
       "      <td>The Great Gatsby: The Original 1925 Edition (A...</td>\n",
       "      <td>F. Scott Fitzgerald</td>\n",
       "      <td>https://m.media-amazon.com/images/I/61z0MrB6qO...</td>\n",
       "      <td>“So we beat on, boats against the current, bor...</td>\n",
       "      <td>S$9.71</td>\n",
       "      <td>['282 in U.S. Literature']</td>\n",
       "      <td>https://www.amazon.sg/Great-Gatsby-Original-Fi...</td>\n",
       "      <td>Amazon</td>\n",
       "      <td>3.89</td>\n",
       "      <td>2683664</td>\n",
       "      <td>1925.0</td>\n",
       "      <td>The Great Gatsby</td>\n",
       "    </tr>\n",
       "  </tbody>\n",
       "</table>\n",
       "</div>"
      ]
     },
     "execution_count": 11,
     "metadata": {},
     "output_type": "execute_result"
    }
   ],
   "execution_count": 11
  },
  {
   "metadata": {
    "ExecuteTime": {
     "end_time": "2024-05-05T01:39:14.944422Z",
     "start_time": "2024-05-05T01:39:14.940723Z"
    }
   },
   "cell_type": "code",
   "source": "tfidf = TfidfVectorizer(stop_words='english')",
   "id": "b555856b62f5343b",
   "outputs": [],
   "execution_count": 12
  },
  {
   "metadata": {
    "ExecuteTime": {
     "end_time": "2024-05-05T01:39:15.082692Z",
     "start_time": "2024-05-05T01:39:14.947100Z"
    }
   },
   "cell_type": "code",
   "source": [
    "book_data['description'] = book_data['description'].fillna('')\n",
    "tfidf_matrix = tfidf.fit_transform(book_data['description'])"
   ],
   "id": "f30e7853b7729f38",
   "outputs": [],
   "execution_count": 13
  },
  {
   "metadata": {
    "ExecuteTime": {
     "end_time": "2024-05-05T01:39:15.150404Z",
     "start_time": "2024-05-05T01:39:15.083386Z"
    }
   },
   "cell_type": "code",
   "source": "cosine_sim = linear_kernel(tfidf_matrix, tfidf_matrix)",
   "id": "fed2078e76066b8e",
   "outputs": [],
   "execution_count": 14
  },
  {
   "metadata": {
    "ExecuteTime": {
     "end_time": "2024-05-05T01:39:15.154011Z",
     "start_time": "2024-05-05T01:39:15.151115Z"
    }
   },
   "cell_type": "code",
   "source": "cosine_sim.shape",
   "id": "81e3a7e2e97f4dc",
   "outputs": [
    {
     "data": {
      "text/plain": [
       "(1801, 1801)"
      ]
     },
     "execution_count": 15,
     "metadata": {},
     "output_type": "execute_result"
    }
   ],
   "execution_count": 15
  },
  {
   "metadata": {
    "ExecuteTime": {
     "end_time": "2024-05-05T01:39:15.157619Z",
     "start_time": "2024-05-05T01:39:15.154618Z"
    }
   },
   "cell_type": "code",
   "source": [
    "#Construct a reverse map of indices and movie titles\n",
    "indices = pd.Series(book_data.index, index=book_data['title']).drop_duplicates()"
   ],
   "id": "43e44b869abd91ad",
   "outputs": [],
   "execution_count": 16
  },
  {
   "metadata": {
    "ExecuteTime": {
     "end_time": "2024-05-05T01:39:15.163730Z",
     "start_time": "2024-05-05T01:39:15.158521Z"
    }
   },
   "cell_type": "code",
   "source": [
    "# Function that takes in movie title as input and outputs most similar movies\n",
    "def get_recommendations(title, cosine_sim=cosine_sim):\n",
    "    # Get the index of the movie that matches the title\n",
    "    idx = indices[title]\n",
    "    # Get the pairwsie similarity scores of all booksget_recommendations('The Dark Knight Rises') with that movie\n",
    "    sim_scores = list(enumerate(cosine_sim[idx]))\n",
    "    # Sort the booksget_recommendations('The Dark Knight Rises') based on the similarity scores\n",
    "    sim_scores = sorted(sim_scores, key=lambda x: x[1], reverse=True)\n",
    "\n",
    "    # Get the scores of the 10 most similar books\n",
    "    sim_scores = sim_scores[1:11]\n",
    "    # Get the movie indices\n",
    "    movie_indices = [i[0] for i in sim_scores]\n",
    "    # Return the top 10 most similar movies\n",
    "    return book_data['title'].iloc[movie_indices]\n"
   ],
   "id": "5eb2c00dc1500bd5",
   "outputs": [],
   "execution_count": 17
  },
  {
   "metadata": {
    "ExecuteTime": {
     "end_time": "2024-05-05T01:39:45.506828Z",
     "start_time": "2024-05-05T01:39:45.500486Z"
    }
   },
   "cell_type": "code",
   "source": "get_recommendations('The Hunger Games (Hunger Games, Book One): Volume 1: 01')",
   "id": "6419ec394961d5e9",
   "outputs": [
    {
     "data": {
      "text/plain": [
       "14                                       Catching Fire: 2\n",
       "17                                          Mockingjay: 3\n",
       "462             The Hunger Games 4 Book Paperback Box Set\n",
       "1557                     Reaper Man: (Discworld Novel 11)\n",
       "644                                               Prodigy\n",
       "1596            Grave Mercy: His Fair Assassin, Book I: 1\n",
       "889                                              Champion\n",
       "1479                                      The Running Man\n",
       "1309                            Gregor the Overlander: 01\n",
       "501     Life After Life: The Bestselling Original Inve...\n",
       "Name: title, dtype: object"
      ]
     },
     "execution_count": 20,
     "metadata": {},
     "output_type": "execute_result"
    }
   ],
   "execution_count": 20
  },
  {
   "metadata": {},
   "cell_type": "code",
   "outputs": [],
   "execution_count": null,
   "source": "",
   "id": "aa2b8d1329f0a3da"
  }
 ],
 "metadata": {
  "kernelspec": {
   "display_name": "Python 3",
   "language": "python",
   "name": "python3"
  },
  "language_info": {
   "codemirror_mode": {
    "name": "ipython",
    "version": 2
   },
   "file_extension": ".py",
   "mimetype": "text/x-python",
   "name": "python",
   "nbconvert_exporter": "python",
   "pygments_lexer": "ipython2",
   "version": "2.7.6"
  }
 },
 "nbformat": 4,
 "nbformat_minor": 5
}
